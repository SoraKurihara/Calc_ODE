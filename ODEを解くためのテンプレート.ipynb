{
 "cells": [
  {
   "cell_type": "markdown",
   "id": "bca49c45",
   "metadata": {},
   "source": [
    "# 必要なモジュールのimportと一緒にODEモジュールのimportもおこなう"
   ]
  },
  {
   "cell_type": "code",
   "execution_count": 1,
   "id": "8e9aff4e",
   "metadata": {},
   "outputs": [],
   "source": [
    "import matplotlib.pyplot as plt\n",
    "import numpy as np\n",
    "\n",
    "from Solve import ODE # 自作の数値計算関数"
   ]
  },
  {
   "cell_type": "markdown",
   "id": "f5804b17",
   "metadata": {},
   "source": [
    "# 解きたいモデル（微分方程式）を定義（ベクトルも可）"
   ]
  },
  {
   "cell_type": "code",
   "execution_count": 2,
   "id": "a98c1a47",
   "metadata": {},
   "outputs": [],
   "source": [
    "def F(X):\n",
    "    return 2*X"
   ]
  },
  {
   "cell_type": "markdown",
   "id": "3bf12be4",
   "metadata": {},
   "source": [
    "# ODEモジュールからSolve_ODEのclassを呼び出す"
   ]
  },
  {
   "cell_type": "code",
   "execution_count": 3,
   "id": "e2cdca42",
   "metadata": {},
   "outputs": [],
   "source": [
    "SODE = ODE.Solve_ODE(0.01,F) # classの呼び出し"
   ]
  },
  {
   "cell_type": "markdown",
   "id": "b4de15c0",
   "metadata": {},
   "source": [
    "# 計算する時間と初期値を設定"
   ]
  },
  {
   "cell_type": "code",
   "execution_count": 4,
   "id": "5e7cac35",
   "metadata": {},
   "outputs": [],
   "source": [
    "Time = 100\n",
    "x0   = [1,10]"
   ]
  },
  {
   "cell_type": "markdown",
   "id": "e6d12e73",
   "metadata": {},
   "source": [
    "# Solve_ODEのclassにあるCalculation関数を用いて時間Timeまで数値計算"
   ]
  },
  {
   "cell_type": "code",
   "execution_count": 5,
   "id": "3443eddc",
   "metadata": {},
   "outputs": [
    {
     "data": {
      "text/plain": [
       "array([[1.00000000e+00, 1.00000000e+01],\n",
       "       [1.02020134e+00, 1.02020134e+01],\n",
       "       [1.04081077e+00, 1.04081077e+01],\n",
       "       ...,\n",
       "       [6.80516403e+86, 6.80516403e+87],\n",
       "       [6.94263746e+86, 6.94263746e+87],\n",
       "       [7.08288804e+86, 7.08288804e+87]])"
      ]
     },
     "execution_count": 5,
     "metadata": {},
     "output_type": "execute_result"
    }
   ],
   "source": [
    "Sol = SODE.Calculation(x0,Time,Method='RK')\n",
    "Sol"
   ]
  }
 ],
 "metadata": {
  "kernelspec": {
   "display_name": "Python 3 (ipykernel)",
   "language": "python",
   "name": "python3"
  },
  "language_info": {
   "codemirror_mode": {
    "name": "ipython",
    "version": 3
   },
   "file_extension": ".py",
   "mimetype": "text/x-python",
   "name": "python",
   "nbconvert_exporter": "python",
   "pygments_lexer": "ipython3",
   "version": "3.9.10"
  }
 },
 "nbformat": 4,
 "nbformat_minor": 5
}
